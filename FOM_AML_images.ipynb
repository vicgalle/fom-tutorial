{
 "cells": [
  {
   "cell_type": "markdown",
   "metadata": {},
   "source": [
    "# A gentle practical intro to adversarial ML using pytorch and cleverhans\n",
    "\n",
    "FOM Seminars, by D. Rios, V. Gallego, R. Naveiro.\n",
    "\n",
    "\n",
    "* Pytorch https://pytorch.org/ es un framework popular de deep learning que puede utilizar la GPU.\n",
    "* cleverhans https://github.com/tensorflow/cleverhans es una librería de ejemplos adversarios para construir ataques, defensas y validar ambos.\n"
   ]
  },
  {
   "cell_type": "markdown",
   "metadata": {},
   "source": [
    "## AML en imágenes\n",
    "\n",
    "Primero, cargamos las librerías necesarias"
   ]
  },
  {
   "cell_type": "code",
   "execution_count": 146,
   "metadata": {},
   "outputs": [],
   "source": [
    "import numpy as np\n",
    "import torch\n",
    "import torch.nn as nn\n",
    "import torch.nn.functional as F\n",
    "import torch.optim as optim\n",
    "import tensorflow as tf\n",
    "from tensorflow.python.platform import flags\n",
    "from torch.autograd import Variable\n",
    "from torchvision import datasets, transforms\n",
    "\n",
    "from cleverhans.attacks import FastGradientMethod\n",
    "from cleverhans.model import CallableModelWrapper\n",
    "from cleverhans.utils import AccuracyReport\n",
    "from cleverhans.utils_pytorch import convert_pytorch_model_to_tf\n",
    "\n",
    "# Fijamos las semillas de los generadores de números aleatorios\n",
    "tf.set_random_seed(1234)\n",
    "torch.manual_seed(1234)\n",
    "np.random.seed(1234)\n",
    "import warnings\n",
    "warnings.filterwarnings(\"ignore\")"
   ]
  },
  {
   "cell_type": "code",
   "execution_count": 147,
   "metadata": {},
   "outputs": [
    {
     "data": {
      "text/plain": [
       "'0.4.1'"
      ]
     },
     "execution_count": 147,
     "metadata": {},
     "output_type": "execute_result"
    }
   ],
   "source": [
    "torch.__version__"
   ]
  },
  {
   "cell_type": "markdown",
   "metadata": {},
   "source": [
    "Definimos nuestro modelo, será una red convolucional sencilla\n",
    "\n",
    "* La función **forward** implementa la función que va aprendiendo la red\n",
    "\n",
    "Como vamos a utilizar el dataset de imágenes MNIST (http://yann.lecun.com/exdb/mnist/), parece razonable utilizar alguna arquitectura basada en capas convolucionales"
   ]
  },
  {
   "cell_type": "code",
   "execution_count": 148,
   "metadata": {
    "collapsed": true
   },
   "outputs": [],
   "source": [
    "class SimpleCNN(nn.Module):\n",
    "    \"\"\" Basic MNIST model from github\n",
    "    \"\"\"\n",
    "\n",
    "    def __init__(self):\n",
    "        super(SimpleCNN, self).__init__()\n",
    "        \n",
    "        self.conv1 = nn.Conv2d(1, 32, 5, padding=2)\n",
    "        self.conv2 = nn.Conv2d(32, 64, 5, padding=2)\n",
    "        self.fc1 = nn.Linear(64 * 7 * 7, 1024)\n",
    "        self.fc2 = nn.Linear(1024, 10)\n",
    "\n",
    "    def forward(self, x):\n",
    "        x = F.max_pool2d(F.relu(self.conv1(x)), 2)\n",
    "        x = F.max_pool2d(F.relu(self.conv2(x)), 2)\n",
    "        x = x.view(-1, 64 * 7 * 7)  # reshape Variable\n",
    "        x = F.relu(self.fc1(x))\n",
    "        x = self.fc2(x)\n",
    "        return F.log_softmax(x, dim=-1)"
   ]
  },
  {
   "cell_type": "markdown",
   "metadata": {},
   "source": [
    "Vamos a echar un vistazo a la arquitectura, que consiste en dos capas convolucionales y otras dos capas densas"
   ]
  },
  {
   "cell_type": "code",
   "execution_count": 149,
   "metadata": {},
   "outputs": [
    {
     "data": {
      "text/plain": [
       "SimpleCNN(\n",
       "  (conv1): Conv2d(1, 32, kernel_size=(5, 5), stride=(1, 1), padding=(2, 2))\n",
       "  (conv2): Conv2d(32, 64, kernel_size=(5, 5), stride=(1, 1), padding=(2, 2))\n",
       "  (fc1): Linear(in_features=3136, out_features=1024, bias=True)\n",
       "  (fc2): Linear(in_features=1024, out_features=10, bias=True)\n",
       ")"
      ]
     },
     "execution_count": 149,
     "metadata": {},
     "output_type": "execute_result"
    }
   ],
   "source": [
    "cnn = SimpleCNN()\n",
    "cnn"
   ]
  },
  {
   "cell_type": "markdown",
   "metadata": {},
   "source": [
    "Con ayuda de https://github.com/szagoruyko/pytorchviz visualizaremos la red"
   ]
  },
  {
   "cell_type": "code",
   "execution_count": 150,
   "metadata": {
    "collapsed": true
   },
   "outputs": [],
   "source": [
    "from torchviz import make_dot"
   ]
  },
  {
   "cell_type": "markdown",
   "metadata": {},
   "source": [
    "Los parámetros a entrenar vienen marcados en azul"
   ]
  },
  {
   "cell_type": "code",
   "execution_count": 151,
   "metadata": {},
   "outputs": [
    {
     "data": {
      "image/svg+xml": [
       "<?xml version=\"1.0\" encoding=\"UTF-8\" standalone=\"no\"?>\n",
       "<!DOCTYPE svg PUBLIC \"-//W3C//DTD SVG 1.1//EN\"\n",
       " \"http://www.w3.org/Graphics/SVG/1.1/DTD/svg11.dtd\">\n",
       "<!-- Generated by graphviz version 2.40.1 (20161225.0304)\n",
       " -->\n",
       "<!-- Title: %3 Pages: 1 -->\n",
       "<svg width=\"437pt\" height=\"708pt\"\n",
       " viewBox=\"0.00 0.00 437.00 708.00\" xmlns=\"http://www.w3.org/2000/svg\" xmlns:xlink=\"http://www.w3.org/1999/xlink\">\n",
       "<g id=\"graph0\" class=\"graph\" transform=\"scale(1 1) rotate(0) translate(4 704)\">\n",
       "<title>%3</title>\n",
       "<polygon fill=\"#ffffff\" stroke=\"transparent\" points=\"-4,4 -4,-704 433,-704 433,4 -4,4\"/>\n",
       "<!-- 140191359158872 -->\n",
       "<g id=\"node1\" class=\"node\">\n",
       "<title>140191359158872</title>\n",
       "<polygon fill=\"#caff70\" stroke=\"#000000\" points=\"307,-21 182,-21 182,0 307,0 307,-21\"/>\n",
       "<text text-anchor=\"middle\" x=\"244.5\" y=\"-7.4\" font-family=\"Times,serif\" font-size=\"12.00\" fill=\"#000000\">LogSoftmaxBackward</text>\n",
       "</g>\n",
       "<!-- 140191359159712 -->\n",
       "<g id=\"node2\" class=\"node\">\n",
       "<title>140191359159712</title>\n",
       "<polygon fill=\"#d3d3d3\" stroke=\"#000000\" points=\"303.5,-78 185.5,-78 185.5,-57 303.5,-57 303.5,-78\"/>\n",
       "<text text-anchor=\"middle\" x=\"244.5\" y=\"-64.4\" font-family=\"Times,serif\" font-size=\"12.00\" fill=\"#000000\">ThAddmmBackward</text>\n",
       "</g>\n",
       "<!-- 140191359159712&#45;&gt;140191359158872 -->\n",
       "<g id=\"edge1\" class=\"edge\">\n",
       "<title>140191359159712&#45;&gt;140191359158872</title>\n",
       "<path fill=\"none\" stroke=\"#000000\" d=\"M244.5,-56.7787C244.5,-49.6134 244.5,-39.9517 244.5,-31.3097\"/>\n",
       "<polygon fill=\"#000000\" stroke=\"#000000\" points=\"248.0001,-31.1732 244.5,-21.1732 241.0001,-31.1732 248.0001,-31.1732\"/>\n",
       "</g>\n",
       "<!-- 140191359159824 -->\n",
       "<g id=\"node3\" class=\"node\">\n",
       "<title>140191359159824</title>\n",
       "<polygon fill=\"#d3d3d3\" stroke=\"#000000\" points=\"182.5,-135 80.5,-135 80.5,-114 182.5,-114 182.5,-135\"/>\n",
       "<text text-anchor=\"middle\" x=\"131.5\" y=\"-121.4\" font-family=\"Times,serif\" font-size=\"12.00\" fill=\"#000000\">ExpandBackward</text>\n",
       "</g>\n",
       "<!-- 140191359159824&#45;&gt;140191359159712 -->\n",
       "<g id=\"edge2\" class=\"edge\">\n",
       "<title>140191359159824&#45;&gt;140191359159712</title>\n",
       "<path fill=\"none\" stroke=\"#000000\" d=\"M152.4896,-113.9123C169.932,-105.114 194.9675,-92.4854 214.5213,-82.622\"/>\n",
       "<polygon fill=\"#000000\" stroke=\"#000000\" points=\"216.2707,-85.6597 223.6228,-78.031 213.1181,-79.4098 216.2707,-85.6597\"/>\n",
       "</g>\n",
       "<!-- 140191359160048 -->\n",
       "<g id=\"node4\" class=\"node\">\n",
       "<title>140191359160048</title>\n",
       "<polygon fill=\"#add8e6\" stroke=\"#000000\" points=\"158.5,-205 104.5,-205 104.5,-171 158.5,-171 158.5,-205\"/>\n",
       "<text text-anchor=\"middle\" x=\"131.5\" y=\"-191.4\" font-family=\"Times,serif\" font-size=\"12.00\" fill=\"#000000\">fc2.bias</text>\n",
       "<text text-anchor=\"middle\" x=\"131.5\" y=\"-178.4\" font-family=\"Times,serif\" font-size=\"12.00\" fill=\"#000000\"> (10)</text>\n",
       "</g>\n",
       "<!-- 140191359160048&#45;&gt;140191359159824 -->\n",
       "<g id=\"edge3\" class=\"edge\">\n",
       "<title>140191359160048&#45;&gt;140191359159824</title>\n",
       "<path fill=\"none\" stroke=\"#000000\" d=\"M131.5,-170.9832C131.5,-163.1157 131.5,-153.6973 131.5,-145.4019\"/>\n",
       "<polygon fill=\"#000000\" stroke=\"#000000\" points=\"135.0001,-145.3686 131.5,-135.3687 128.0001,-145.3687 135.0001,-145.3686\"/>\n",
       "</g>\n",
       "<!-- 140191359159936 -->\n",
       "<g id=\"node5\" class=\"node\">\n",
       "<title>140191359159936</title>\n",
       "<polygon fill=\"#d3d3d3\" stroke=\"#000000\" points=\"288.5,-135 200.5,-135 200.5,-114 288.5,-114 288.5,-135\"/>\n",
       "<text text-anchor=\"middle\" x=\"244.5\" y=\"-121.4\" font-family=\"Times,serif\" font-size=\"12.00\" fill=\"#000000\">ReluBackward</text>\n",
       "</g>\n",
       "<!-- 140191359159936&#45;&gt;140191359159712 -->\n",
       "<g id=\"edge4\" class=\"edge\">\n",
       "<title>140191359159936&#45;&gt;140191359159712</title>\n",
       "<path fill=\"none\" stroke=\"#000000\" d=\"M244.5,-113.7787C244.5,-106.6134 244.5,-96.9517 244.5,-88.3097\"/>\n",
       "<polygon fill=\"#000000\" stroke=\"#000000\" points=\"248.0001,-88.1732 244.5,-78.1732 241.0001,-88.1732 248.0001,-88.1732\"/>\n",
       "</g>\n",
       "<!-- 140191359157920 -->\n",
       "<g id=\"node6\" class=\"node\">\n",
       "<title>140191359157920</title>\n",
       "<polygon fill=\"#d3d3d3\" stroke=\"#000000\" points=\"298.5,-198.5 180.5,-198.5 180.5,-177.5 298.5,-177.5 298.5,-198.5\"/>\n",
       "<text text-anchor=\"middle\" x=\"239.5\" y=\"-184.9\" font-family=\"Times,serif\" font-size=\"12.00\" fill=\"#000000\">ThAddmmBackward</text>\n",
       "</g>\n",
       "<!-- 140191359157920&#45;&gt;140191359159936 -->\n",
       "<g id=\"edge5\" class=\"edge\">\n",
       "<title>140191359157920&#45;&gt;140191359159936</title>\n",
       "<path fill=\"none\" stroke=\"#000000\" d=\"M240.3482,-177.2281C241.0347,-168.5091 242.0221,-155.9699 242.8617,-145.3068\"/>\n",
       "<polygon fill=\"#000000\" stroke=\"#000000\" points=\"246.3685,-145.3567 243.6643,-135.1128 239.3901,-144.8072 246.3685,-145.3567\"/>\n",
       "</g>\n",
       "<!-- 140191359158760 -->\n",
       "<g id=\"node7\" class=\"node\">\n",
       "<title>140191359158760</title>\n",
       "<polygon fill=\"#d3d3d3\" stroke=\"#000000\" points=\"165.5,-262 63.5,-262 63.5,-241 165.5,-241 165.5,-262\"/>\n",
       "<text text-anchor=\"middle\" x=\"114.5\" y=\"-248.4\" font-family=\"Times,serif\" font-size=\"12.00\" fill=\"#000000\">ExpandBackward</text>\n",
       "</g>\n",
       "<!-- 140191359158760&#45;&gt;140191359157920 -->\n",
       "<g id=\"edge6\" class=\"edge\">\n",
       "<title>140191359158760&#45;&gt;140191359157920</title>\n",
       "<path fill=\"none\" stroke=\"#000000\" d=\"M135.4222,-240.8715C155.7023,-230.5692 186.6714,-214.8369 209.5588,-203.2101\"/>\n",
       "<polygon fill=\"#000000\" stroke=\"#000000\" points=\"211.1792,-206.3128 218.5096,-198.6631 208.0088,-200.0719 211.1792,-206.3128\"/>\n",
       "</g>\n",
       "<!-- 140191359158424 -->\n",
       "<g id=\"node8\" class=\"node\">\n",
       "<title>140191359158424</title>\n",
       "<polygon fill=\"#add8e6\" stroke=\"#000000\" points=\"130.5,-332 76.5,-332 76.5,-298 130.5,-298 130.5,-332\"/>\n",
       "<text text-anchor=\"middle\" x=\"103.5\" y=\"-318.4\" font-family=\"Times,serif\" font-size=\"12.00\" fill=\"#000000\">fc1.bias</text>\n",
       "<text text-anchor=\"middle\" x=\"103.5\" y=\"-305.4\" font-family=\"Times,serif\" font-size=\"12.00\" fill=\"#000000\"> (1024)</text>\n",
       "</g>\n",
       "<!-- 140191359158424&#45;&gt;140191359158760 -->\n",
       "<g id=\"edge7\" class=\"edge\">\n",
       "<title>140191359158424&#45;&gt;140191359158760</title>\n",
       "<path fill=\"none\" stroke=\"#000000\" d=\"M106.4478,-297.9832C107.8107,-290.1157 109.4422,-280.6973 110.8792,-272.4019\"/>\n",
       "<polygon fill=\"#000000\" stroke=\"#000000\" points=\"114.3589,-272.8194 112.6172,-262.3687 107.4617,-271.6245 114.3589,-272.8194\"/>\n",
       "</g>\n",
       "<!-- 140191359158592 -->\n",
       "<g id=\"node9\" class=\"node\">\n",
       "<title>140191359158592</title>\n",
       "<polygon fill=\"#d3d3d3\" stroke=\"#000000\" points=\"285.5,-262 193.5,-262 193.5,-241 285.5,-241 285.5,-262\"/>\n",
       "<text text-anchor=\"middle\" x=\"239.5\" y=\"-248.4\" font-family=\"Times,serif\" font-size=\"12.00\" fill=\"#000000\">ViewBackward</text>\n",
       "</g>\n",
       "<!-- 140191359158592&#45;&gt;140191359157920 -->\n",
       "<g id=\"edge8\" class=\"edge\">\n",
       "<title>140191359158592&#45;&gt;140191359157920</title>\n",
       "<path fill=\"none\" stroke=\"#000000\" d=\"M239.5,-240.7281C239.5,-232.0091 239.5,-219.4699 239.5,-208.8068\"/>\n",
       "<polygon fill=\"#000000\" stroke=\"#000000\" points=\"243.0001,-208.6128 239.5,-198.6128 236.0001,-208.6129 243.0001,-208.6128\"/>\n",
       "</g>\n",
       "<!-- 140191359158480 -->\n",
       "<g id=\"node10\" class=\"node\">\n",
       "<title>140191359158480</title>\n",
       "<polygon fill=\"#d3d3d3\" stroke=\"#000000\" points=\"330,-325.5 149,-325.5 149,-304.5 330,-304.5 330,-325.5\"/>\n",
       "<text text-anchor=\"middle\" x=\"239.5\" y=\"-311.9\" font-family=\"Times,serif\" font-size=\"12.00\" fill=\"#000000\">MaxPool2DWithIndicesBackward</text>\n",
       "</g>\n",
       "<!-- 140191359158480&#45;&gt;140191359158592 -->\n",
       "<g id=\"edge9\" class=\"edge\">\n",
       "<title>140191359158480&#45;&gt;140191359158592</title>\n",
       "<path fill=\"none\" stroke=\"#000000\" d=\"M239.5,-304.2281C239.5,-295.5091 239.5,-282.9699 239.5,-272.3068\"/>\n",
       "<polygon fill=\"#000000\" stroke=\"#000000\" points=\"243.0001,-272.1128 239.5,-262.1128 236.0001,-272.1129 243.0001,-272.1128\"/>\n",
       "</g>\n",
       "<!-- 140191358790904 -->\n",
       "<g id=\"node11\" class=\"node\">\n",
       "<title>140191358790904</title>\n",
       "<polygon fill=\"#d3d3d3\" stroke=\"#000000\" points=\"283.5,-389 195.5,-389 195.5,-368 283.5,-368 283.5,-389\"/>\n",
       "<text text-anchor=\"middle\" x=\"239.5\" y=\"-375.4\" font-family=\"Times,serif\" font-size=\"12.00\" fill=\"#000000\">ReluBackward</text>\n",
       "</g>\n",
       "<!-- 140191358790904&#45;&gt;140191359158480 -->\n",
       "<g id=\"edge10\" class=\"edge\">\n",
       "<title>140191358790904&#45;&gt;140191359158480</title>\n",
       "<path fill=\"none\" stroke=\"#000000\" d=\"M239.5,-367.7281C239.5,-359.0091 239.5,-346.4699 239.5,-335.8068\"/>\n",
       "<polygon fill=\"#000000\" stroke=\"#000000\" points=\"243.0001,-335.6128 239.5,-325.6128 236.0001,-335.6129 243.0001,-335.6128\"/>\n",
       "</g>\n",
       "<!-- 140191358789560 -->\n",
       "<g id=\"node12\" class=\"node\">\n",
       "<title>140191358789560</title>\n",
       "<polygon fill=\"#d3d3d3\" stroke=\"#000000\" points=\"305.5,-446 173.5,-446 173.5,-425 305.5,-425 305.5,-446\"/>\n",
       "<text text-anchor=\"middle\" x=\"239.5\" y=\"-432.4\" font-family=\"Times,serif\" font-size=\"12.00\" fill=\"#000000\">ThnnConv2DBackward</text>\n",
       "</g>\n",
       "<!-- 140191358789560&#45;&gt;140191358790904 -->\n",
       "<g id=\"edge11\" class=\"edge\">\n",
       "<title>140191358789560&#45;&gt;140191358790904</title>\n",
       "<path fill=\"none\" stroke=\"#000000\" d=\"M239.5,-424.7787C239.5,-417.6134 239.5,-407.9517 239.5,-399.3097\"/>\n",
       "<polygon fill=\"#000000\" stroke=\"#000000\" points=\"243.0001,-399.1732 239.5,-389.1732 236.0001,-399.1732 243.0001,-399.1732\"/>\n",
       "</g>\n",
       "<!-- 140191358789504 -->\n",
       "<g id=\"node13\" class=\"node\">\n",
       "<title>140191358789504</title>\n",
       "<polygon fill=\"#d3d3d3\" stroke=\"#000000\" points=\"181,-509.5 0,-509.5 0,-488.5 181,-488.5 181,-509.5\"/>\n",
       "<text text-anchor=\"middle\" x=\"90.5\" y=\"-495.9\" font-family=\"Times,serif\" font-size=\"12.00\" fill=\"#000000\">MaxPool2DWithIndicesBackward</text>\n",
       "</g>\n",
       "<!-- 140191358789504&#45;&gt;140191358789560 -->\n",
       "<g id=\"edge12\" class=\"edge\">\n",
       "<title>140191358789504&#45;&gt;140191358789560</title>\n",
       "<path fill=\"none\" stroke=\"#000000\" d=\"M115.4392,-488.3715C140.0429,-477.8861 177.8449,-461.7758 205.2558,-450.094\"/>\n",
       "<polygon fill=\"#000000\" stroke=\"#000000\" points=\"206.6522,-453.3036 214.4794,-446.1631 203.9077,-446.864 206.6522,-453.3036\"/>\n",
       "</g>\n",
       "<!-- 140191358788440 -->\n",
       "<g id=\"node14\" class=\"node\">\n",
       "<title>140191358788440</title>\n",
       "<polygon fill=\"#d3d3d3\" stroke=\"#000000\" points=\"134.5,-573 46.5,-573 46.5,-552 134.5,-552 134.5,-573\"/>\n",
       "<text text-anchor=\"middle\" x=\"90.5\" y=\"-559.4\" font-family=\"Times,serif\" font-size=\"12.00\" fill=\"#000000\">ReluBackward</text>\n",
       "</g>\n",
       "<!-- 140191358788440&#45;&gt;140191358789504 -->\n",
       "<g id=\"edge13\" class=\"edge\">\n",
       "<title>140191358788440&#45;&gt;140191358789504</title>\n",
       "<path fill=\"none\" stroke=\"#000000\" d=\"M90.5,-551.7281C90.5,-543.0091 90.5,-530.4699 90.5,-519.8068\"/>\n",
       "<polygon fill=\"#000000\" stroke=\"#000000\" points=\"94.0001,-519.6128 90.5,-509.6128 87.0001,-519.6129 94.0001,-519.6128\"/>\n",
       "</g>\n",
       "<!-- 140191358788776 -->\n",
       "<g id=\"node15\" class=\"node\">\n",
       "<title>140191358788776</title>\n",
       "<polygon fill=\"#d3d3d3\" stroke=\"#000000\" points=\"156.5,-630 24.5,-630 24.5,-609 156.5,-609 156.5,-630\"/>\n",
       "<text text-anchor=\"middle\" x=\"90.5\" y=\"-616.4\" font-family=\"Times,serif\" font-size=\"12.00\" fill=\"#000000\">ThnnConv2DBackward</text>\n",
       "</g>\n",
       "<!-- 140191358788776&#45;&gt;140191358788440 -->\n",
       "<g id=\"edge14\" class=\"edge\">\n",
       "<title>140191358788776&#45;&gt;140191358788440</title>\n",
       "<path fill=\"none\" stroke=\"#000000\" d=\"M90.5,-608.7787C90.5,-601.6134 90.5,-591.9517 90.5,-583.3097\"/>\n",
       "<polygon fill=\"#000000\" stroke=\"#000000\" points=\"94.0001,-583.1732 90.5,-573.1732 87.0001,-583.1732 94.0001,-583.1732\"/>\n",
       "</g>\n",
       "<!-- 140191358789952 -->\n",
       "<g id=\"node16\" class=\"node\">\n",
       "<title>140191358789952</title>\n",
       "<polygon fill=\"#add8e6\" stroke=\"#000000\" points=\"85,-700 4,-700 4,-666 85,-666 85,-700\"/>\n",
       "<text text-anchor=\"middle\" x=\"44.5\" y=\"-686.4\" font-family=\"Times,serif\" font-size=\"12.00\" fill=\"#000000\">conv1.weight</text>\n",
       "<text text-anchor=\"middle\" x=\"44.5\" y=\"-673.4\" font-family=\"Times,serif\" font-size=\"12.00\" fill=\"#000000\"> (32, 1, 5, 5)</text>\n",
       "</g>\n",
       "<!-- 140191358789952&#45;&gt;140191358788776 -->\n",
       "<g id=\"edge15\" class=\"edge\">\n",
       "<title>140191358789952&#45;&gt;140191358788776</title>\n",
       "<path fill=\"none\" stroke=\"#000000\" d=\"M56.8272,-665.9832C62.9107,-657.5853 70.2742,-647.4204 76.5621,-638.7404\"/>\n",
       "<polygon fill=\"#000000\" stroke=\"#000000\" points=\"79.5945,-640.5204 82.6266,-630.3687 73.9256,-636.4138 79.5945,-640.5204\"/>\n",
       "</g>\n",
       "<!-- 140191358844600 -->\n",
       "<g id=\"node17\" class=\"node\">\n",
       "<title>140191358844600</title>\n",
       "<polygon fill=\"#add8e6\" stroke=\"#000000\" points=\"171.5,-700 103.5,-700 103.5,-666 171.5,-666 171.5,-700\"/>\n",
       "<text text-anchor=\"middle\" x=\"137.5\" y=\"-686.4\" font-family=\"Times,serif\" font-size=\"12.00\" fill=\"#000000\">conv1.bias</text>\n",
       "<text text-anchor=\"middle\" x=\"137.5\" y=\"-673.4\" font-family=\"Times,serif\" font-size=\"12.00\" fill=\"#000000\"> (32)</text>\n",
       "</g>\n",
       "<!-- 140191358844600&#45;&gt;140191358788776 -->\n",
       "<g id=\"edge16\" class=\"edge\">\n",
       "<title>140191358844600&#45;&gt;140191358788776</title>\n",
       "<path fill=\"none\" stroke=\"#000000\" d=\"M124.9049,-665.9832C118.6237,-657.4969 111.0069,-647.2062 104.5384,-638.4668\"/>\n",
       "<polygon fill=\"#000000\" stroke=\"#000000\" points=\"107.3071,-636.3243 98.5445,-630.3687 101.6806,-640.4888 107.3071,-636.3243\"/>\n",
       "</g>\n",
       "<!-- 140191358789000 -->\n",
       "<g id=\"node18\" class=\"node\">\n",
       "<title>140191358789000</title>\n",
       "<polygon fill=\"#add8e6\" stroke=\"#000000\" points=\"280,-516 199,-516 199,-482 280,-482 280,-516\"/>\n",
       "<text text-anchor=\"middle\" x=\"239.5\" y=\"-502.4\" font-family=\"Times,serif\" font-size=\"12.00\" fill=\"#000000\">conv2.weight</text>\n",
       "<text text-anchor=\"middle\" x=\"239.5\" y=\"-489.4\" font-family=\"Times,serif\" font-size=\"12.00\" fill=\"#000000\"> (64, 32, 5, 5)</text>\n",
       "</g>\n",
       "<!-- 140191358789000&#45;&gt;140191358789560 -->\n",
       "<g id=\"edge17\" class=\"edge\">\n",
       "<title>140191358789000&#45;&gt;140191358789560</title>\n",
       "<path fill=\"none\" stroke=\"#000000\" d=\"M239.5,-481.9832C239.5,-474.1157 239.5,-464.6973 239.5,-456.4019\"/>\n",
       "<polygon fill=\"#000000\" stroke=\"#000000\" points=\"243.0001,-456.3686 239.5,-446.3687 236.0001,-456.3687 243.0001,-456.3686\"/>\n",
       "</g>\n",
       "<!-- 140191358789056 -->\n",
       "<g id=\"node19\" class=\"node\">\n",
       "<title>140191358789056</title>\n",
       "<polygon fill=\"#add8e6\" stroke=\"#000000\" points=\"366.5,-516 298.5,-516 298.5,-482 366.5,-482 366.5,-516\"/>\n",
       "<text text-anchor=\"middle\" x=\"332.5\" y=\"-502.4\" font-family=\"Times,serif\" font-size=\"12.00\" fill=\"#000000\">conv2.bias</text>\n",
       "<text text-anchor=\"middle\" x=\"332.5\" y=\"-489.4\" font-family=\"Times,serif\" font-size=\"12.00\" fill=\"#000000\"> (64)</text>\n",
       "</g>\n",
       "<!-- 140191358789056&#45;&gt;140191358789560 -->\n",
       "<g id=\"edge18\" class=\"edge\">\n",
       "<title>140191358789056&#45;&gt;140191358789560</title>\n",
       "<path fill=\"none\" stroke=\"#000000\" d=\"M307.5777,-481.9832C293.8955,-472.641 277.0107,-461.1122 263.4799,-451.8734\"/>\n",
       "<polygon fill=\"#000000\" stroke=\"#000000\" points=\"265.372,-448.9273 255.1398,-446.1788 261.4248,-454.7082 265.372,-448.9273\"/>\n",
       "</g>\n",
       "<!-- 140191359158648 -->\n",
       "<g id=\"node20\" class=\"node\">\n",
       "<title>140191359158648</title>\n",
       "<polygon fill=\"#d3d3d3\" stroke=\"#000000\" points=\"401,-262 328,-262 328,-241 401,-241 401,-262\"/>\n",
       "<text text-anchor=\"middle\" x=\"364.5\" y=\"-248.4\" font-family=\"Times,serif\" font-size=\"12.00\" fill=\"#000000\">TBackward</text>\n",
       "</g>\n",
       "<!-- 140191359158648&#45;&gt;140191359157920 -->\n",
       "<g id=\"edge19\" class=\"edge\">\n",
       "<title>140191359158648&#45;&gt;140191359157920</title>\n",
       "<path fill=\"none\" stroke=\"#000000\" d=\"M343.5778,-240.8715C323.2977,-230.5692 292.3286,-214.8369 269.4412,-203.2101\"/>\n",
       "<polygon fill=\"#000000\" stroke=\"#000000\" points=\"270.9912,-200.0719 260.4904,-198.6631 267.8208,-206.3128 270.9912,-200.0719\"/>\n",
       "</g>\n",
       "<!-- 140191359158200 -->\n",
       "<g id=\"node21\" class=\"node\">\n",
       "<title>140191359158200</title>\n",
       "<polygon fill=\"#add8e6\" stroke=\"#000000\" points=\"429,-332 348,-332 348,-298 429,-298 429,-332\"/>\n",
       "<text text-anchor=\"middle\" x=\"388.5\" y=\"-318.4\" font-family=\"Times,serif\" font-size=\"12.00\" fill=\"#000000\">fc1.weight</text>\n",
       "<text text-anchor=\"middle\" x=\"388.5\" y=\"-305.4\" font-family=\"Times,serif\" font-size=\"12.00\" fill=\"#000000\"> (1024, 3136)</text>\n",
       "</g>\n",
       "<!-- 140191359158200&#45;&gt;140191359158648 -->\n",
       "<g id=\"edge20\" class=\"edge\">\n",
       "<title>140191359158200&#45;&gt;140191359158648</title>\n",
       "<path fill=\"none\" stroke=\"#000000\" d=\"M382.0684,-297.9832C379.0281,-289.9389 375.3749,-280.2732 372.1892,-271.8444\"/>\n",
       "<polygon fill=\"#000000\" stroke=\"#000000\" points=\"375.4173,-270.4854 368.6078,-262.3687 368.8694,-272.9603 375.4173,-270.4854\"/>\n",
       "</g>\n",
       "<!-- 140191359159768 -->\n",
       "<g id=\"node22\" class=\"node\">\n",
       "<title>140191359159768</title>\n",
       "<polygon fill=\"#d3d3d3\" stroke=\"#000000\" points=\"384,-135 311,-135 311,-114 384,-114 384,-135\"/>\n",
       "<text text-anchor=\"middle\" x=\"347.5\" y=\"-121.4\" font-family=\"Times,serif\" font-size=\"12.00\" fill=\"#000000\">TBackward</text>\n",
       "</g>\n",
       "<!-- 140191359159768&#45;&gt;140191359159712 -->\n",
       "<g id=\"edge21\" class=\"edge\">\n",
       "<title>140191359159768&#45;&gt;140191359159712</title>\n",
       "<path fill=\"none\" stroke=\"#000000\" d=\"M328.1265,-113.7787C312.589,-105.1803 290.5558,-92.9872 273.0057,-83.275\"/>\n",
       "<polygon fill=\"#000000\" stroke=\"#000000\" points=\"274.2309,-79.9529 263.7866,-78.1732 270.8415,-86.0776 274.2309,-79.9529\"/>\n",
       "</g>\n",
       "<!-- 140191359158704 -->\n",
       "<g id=\"node23\" class=\"node\">\n",
       "<title>140191359158704</title>\n",
       "<polygon fill=\"#add8e6\" stroke=\"#000000\" points=\"386,-205 317,-205 317,-171 386,-171 386,-205\"/>\n",
       "<text text-anchor=\"middle\" x=\"351.5\" y=\"-191.4\" font-family=\"Times,serif\" font-size=\"12.00\" fill=\"#000000\">fc2.weight</text>\n",
       "<text text-anchor=\"middle\" x=\"351.5\" y=\"-178.4\" font-family=\"Times,serif\" font-size=\"12.00\" fill=\"#000000\"> (10, 1024)</text>\n",
       "</g>\n",
       "<!-- 140191359158704&#45;&gt;140191359159768 -->\n",
       "<g id=\"edge22\" class=\"edge\">\n",
       "<title>140191359158704&#45;&gt;140191359159768</title>\n",
       "<path fill=\"none\" stroke=\"#000000\" d=\"M350.4281,-170.9832C349.9325,-163.1157 349.3392,-153.6973 348.8167,-145.4019\"/>\n",
       "<polygon fill=\"#000000\" stroke=\"#000000\" points=\"352.3065,-145.1288 348.1846,-135.3687 345.3203,-145.569 352.3065,-145.1288\"/>\n",
       "</g>\n",
       "</g>\n",
       "</svg>\n"
      ],
      "text/plain": [
       "<graphviz.dot.Digraph at 0x7f80d829c7f0>"
      ]
     },
     "execution_count": 151,
     "metadata": {},
     "output_type": "execute_result"
    }
   ],
   "source": [
    "random_input = torch.randn([1, 1, 28, 28])\n",
    "\n",
    "make_dot(cnn(random_input), params=dict(cnn.named_parameters()))"
   ]
  },
  {
   "cell_type": "markdown",
   "metadata": {},
   "source": [
    "Declaramos los hiperparámetros\n",
    "\n",
    "* n_epochs: número de épocas sobre el que entrenaremos\n",
    "* batch_size: cuántos ejemplos usa la red en cada actualización\n",
    "* lr: tasa de aprendizaje"
   ]
  },
  {
   "cell_type": "code",
   "execution_count": 152,
   "metadata": {
    "collapsed": true
   },
   "outputs": [],
   "source": [
    "n_epochs = 6\n",
    "batch_size = 128\n",
    "lr = .001"
   ]
  },
  {
   "cell_type": "markdown",
   "metadata": {},
   "source": [
    "Comprobamos si hay GPU y cargamos el dataset MNIST"
   ]
  },
  {
   "cell_type": "code",
   "execution_count": 153,
   "metadata": {
    "collapsed": true
   },
   "outputs": [],
   "source": [
    "torch_model = SimpleCNN()\n",
    "\n",
    "if torch.cuda.is_available():\n",
    "    torch_model = torch_model.cuda()\n",
    "report = AccuracyReport()\n",
    "\n",
    "train_loader = torch.utils.data.DataLoader(\n",
    "    datasets.MNIST('data', train=True, download=True,\n",
    "                   transform=transforms.ToTensor()),\n",
    "    batch_size=batch_size, shuffle=True)\n",
    "\n",
    "test_loader = torch.utils.data.DataLoader(\n",
    "    datasets.MNIST('data', train=False, transform=transforms.ToTensor()),\n",
    "    batch_size=batch_size)\n",
    "\n",
    "train_end=-1\n",
    "test_end=-1\n",
    "train_loader.dataset.train_data = train_loader.dataset.train_data[:train_end]\n",
    "test_loader.dataset.test_data = test_loader.dataset.test_data[:test_end]"
   ]
  },
  {
   "cell_type": "markdown",
   "metadata": {},
   "source": [
    "Ya estamos listos para entrenar el modelo. Utilizaremos el optimizador Adam [Kingma, https://arxiv.org/abs/1412.6980], una variante efectiva del descenso por el gradiente estocástico (SGD).\n"
   ]
  },
  {
   "cell_type": "code",
   "execution_count": 154,
   "metadata": {},
   "outputs": [
    {
     "name": "stdout",
     "output_type": "stream",
     "text": [
      "[125] Training accuracy: 88.98%\n"
     ]
    },
    {
     "ename": "KeyboardInterrupt",
     "evalue": "",
     "output_type": "error",
     "traceback": [
      "\u001b[0;31m---------------------------------------------------------------------------\u001b[0m",
      "\u001b[0;31mKeyboardInterrupt\u001b[0m                         Traceback (most recent call last)",
      "\u001b[0;32m<ipython-input-154-d672898ba308>\u001b[0m in \u001b[0;36m<module>\u001b[0;34m()\u001b[0m\n\u001b[1;32m     18\u001b[0m \u001b[0;34m\u001b[0m\u001b[0m\n\u001b[1;32m     19\u001b[0m         \u001b[0;31m# Calculamos gradientes (backpropagation)\u001b[0m\u001b[0;34m\u001b[0m\u001b[0;34m\u001b[0m\u001b[0m\n\u001b[0;32m---> 20\u001b[0;31m         \u001b[0mloss\u001b[0m\u001b[0;34m.\u001b[0m\u001b[0mbackward\u001b[0m\u001b[0;34m(\u001b[0m\u001b[0;34m)\u001b[0m\u001b[0;34m\u001b[0m\u001b[0m\n\u001b[0m\u001b[1;32m     21\u001b[0m         \u001b[0mtrain_loss\u001b[0m\u001b[0;34m.\u001b[0m\u001b[0mappend\u001b[0m\u001b[0;34m(\u001b[0m\u001b[0mloss\u001b[0m\u001b[0;34m.\u001b[0m\u001b[0mdata\u001b[0m\u001b[0;34m.\u001b[0m\u001b[0mitem\u001b[0m\u001b[0;34m(\u001b[0m\u001b[0;34m)\u001b[0m\u001b[0;34m)\u001b[0m\u001b[0;34m\u001b[0m\u001b[0m\n\u001b[1;32m     22\u001b[0m \u001b[0;34m\u001b[0m\u001b[0m\n",
      "\u001b[0;32m/home/victor/anaconda3/lib/python3.6/site-packages/torch/tensor.py\u001b[0m in \u001b[0;36mbackward\u001b[0;34m(self, gradient, retain_graph, create_graph)\u001b[0m\n\u001b[1;32m     91\u001b[0m                 \u001b[0mproducts\u001b[0m\u001b[0;34m.\u001b[0m \u001b[0mDefaults\u001b[0m \u001b[0mto\u001b[0m\u001b[0;31m \u001b[0m\u001b[0;31m`\u001b[0m\u001b[0;31m`\u001b[0m\u001b[0;32mFalse\u001b[0m\u001b[0;31m`\u001b[0m\u001b[0;31m`\u001b[0m\u001b[0;34m.\u001b[0m\u001b[0;34m\u001b[0m\u001b[0m\n\u001b[1;32m     92\u001b[0m         \"\"\"\n\u001b[0;32m---> 93\u001b[0;31m         \u001b[0mtorch\u001b[0m\u001b[0;34m.\u001b[0m\u001b[0mautograd\u001b[0m\u001b[0;34m.\u001b[0m\u001b[0mbackward\u001b[0m\u001b[0;34m(\u001b[0m\u001b[0mself\u001b[0m\u001b[0;34m,\u001b[0m \u001b[0mgradient\u001b[0m\u001b[0;34m,\u001b[0m \u001b[0mretain_graph\u001b[0m\u001b[0;34m,\u001b[0m \u001b[0mcreate_graph\u001b[0m\u001b[0;34m)\u001b[0m\u001b[0;34m\u001b[0m\u001b[0m\n\u001b[0m\u001b[1;32m     94\u001b[0m \u001b[0;34m\u001b[0m\u001b[0m\n\u001b[1;32m     95\u001b[0m     \u001b[0;32mdef\u001b[0m \u001b[0mregister_hook\u001b[0m\u001b[0;34m(\u001b[0m\u001b[0mself\u001b[0m\u001b[0;34m,\u001b[0m \u001b[0mhook\u001b[0m\u001b[0;34m)\u001b[0m\u001b[0;34m:\u001b[0m\u001b[0;34m\u001b[0m\u001b[0m\n",
      "\u001b[0;32m/home/victor/anaconda3/lib/python3.6/site-packages/torch/autograd/__init__.py\u001b[0m in \u001b[0;36mbackward\u001b[0;34m(tensors, grad_tensors, retain_graph, create_graph, grad_variables)\u001b[0m\n\u001b[1;32m     88\u001b[0m     Variable._execution_engine.run_backward(\n\u001b[1;32m     89\u001b[0m         \u001b[0mtensors\u001b[0m\u001b[0;34m,\u001b[0m \u001b[0mgrad_tensors\u001b[0m\u001b[0;34m,\u001b[0m \u001b[0mretain_graph\u001b[0m\u001b[0;34m,\u001b[0m \u001b[0mcreate_graph\u001b[0m\u001b[0;34m,\u001b[0m\u001b[0;34m\u001b[0m\u001b[0m\n\u001b[0;32m---> 90\u001b[0;31m         allow_unreachable=True)  # allow_unreachable flag\n\u001b[0m\u001b[1;32m     91\u001b[0m \u001b[0;34m\u001b[0m\u001b[0m\n\u001b[1;32m     92\u001b[0m \u001b[0;34m\u001b[0m\u001b[0m\n",
      "\u001b[0;31mKeyboardInterrupt\u001b[0m: "
     ]
    }
   ],
   "source": [
    "# Entrenamiento\n",
    "optimizer = optim.Adam(torch_model.parameters(), lr=lr)\n",
    "train_loss = []\n",
    "\n",
    "total = 0\n",
    "correct = 0\n",
    "step = 0\n",
    "for epoch in range(n_epochs):\n",
    "    for xs, ys in train_loader:\n",
    "        xs, ys = Variable(xs), Variable(ys)\n",
    "        if torch.cuda.is_available():\n",
    "            xs, ys = xs.cuda(), ys.cuda()\n",
    "        optimizer.zero_grad()\n",
    "        \n",
    "        # Calculamos las predicciones\n",
    "        preds = torch_model(xs)\n",
    "        loss = F.nll_loss(preds, ys)\n",
    "        \n",
    "        # Calculamos gradientes (backpropagation)\n",
    "        loss.backward()  \n",
    "        train_loss.append(loss.data.item())\n",
    "        \n",
    "        # Actualizamos los parámetros de la red\n",
    "        optimizer.step()  \n",
    "\n",
    "        preds_np = preds.data.cpu().numpy()\n",
    "        correct += (np.argmax(preds_np, axis=1) == ys).sum()\n",
    "        total += len(xs)\n",
    "        step += 1\n",
    "        if total % 1000 == 0:\n",
    "            acc = float(correct) / total\n",
    "            print('[%s] Training accuracy: %.2f%%' % (step, acc * 100))\n",
    "            total = 0\n",
    "            correct = 0"
   ]
  },
  {
   "cell_type": "markdown",
   "metadata": {},
   "source": [
    "En lugar de entrenar ahora mismo, cargaremos unos pesos ya preentrenados"
   ]
  },
  {
   "cell_type": "code",
   "execution_count": 15,
   "metadata": {
    "collapsed": true
   },
   "outputs": [],
   "source": [
    "# torch.save(torch_model.state_dict(), 'cnn_weights.bin')"
   ]
  },
  {
   "cell_type": "code",
   "execution_count": 155,
   "metadata": {
    "collapsed": true
   },
   "outputs": [],
   "source": [
    "torch_model = SimpleCNN()\n",
    "torch_model.load_state_dict(torch.load('cnn_weights.bin'))"
   ]
  },
  {
   "cell_type": "markdown",
   "metadata": {},
   "source": [
    "Evaluamos sobre un conjunto de test limpio (sin atacar)"
   ]
  },
  {
   "cell_type": "code",
   "execution_count": 156,
   "metadata": {},
   "outputs": [
    {
     "name": "stdout",
     "output_type": "stream",
     "text": [
      "[241] Clean accuracy: 99.11%\n"
     ]
    }
   ],
   "source": [
    "total = 0\n",
    "correct = 0\n",
    "for xs, ys in test_loader:\n",
    "    xs, ys = Variable(xs), Variable(ys)\n",
    "    if torch.cuda.is_available():\n",
    "        xs, ys = xs.cuda(), ys.cuda()\n",
    "\n",
    "    preds = torch_model(xs)\n",
    "    preds_np = preds.data.cpu().numpy()\n",
    "\n",
    "    correct += (np.argmax(preds_np, axis=1) == ys).sum()\n",
    "    total += len(xs)\n",
    "\n",
    "acc = float(correct) / total\n",
    "report.clean_train_clean_eval = acc\n",
    "print('[%s] Clean accuracy: %.2f%%' % (step, acc * 100))"
   ]
  },
  {
   "cell_type": "markdown",
   "metadata": {},
   "source": [
    "Obtenemos unos resultados bastante razonables"
   ]
  },
  {
   "cell_type": "markdown",
   "metadata": {},
   "source": [
    "## Evaluando nuestro clasificador bajo ataques adversarios"
   ]
  },
  {
   "cell_type": "code",
   "execution_count": 157,
   "metadata": {
    "collapsed": true
   },
   "outputs": [],
   "source": [
    "# Utilizamos cleverhans para evaluar sobre inputs adversarios\n",
    "sess = tf.Session()\n",
    "x_op = tf.placeholder(tf.float32, shape=(None, 1, 28, 28,))\n",
    "\n",
    "# Convertimos el modelo de torch a tf\n",
    "tf_model_fn = convert_pytorch_model_to_tf(torch_model)\n",
    "cleverhans_model = CallableModelWrapper(tf_model_fn, output_layer='logits')"
   ]
  },
  {
   "cell_type": "markdown",
   "metadata": {},
   "source": [
    "Ahora, realizaremos el ataque *fast gradient sign method* (FGSM), uno de los primeros ataques exitosos contra redes neuronales profundas. Fue introducido por Goodfellow et al en 2014 https://arxiv.org/abs/1412.6572\n",
    "\n",
    "La idea principal consiste en perturbar ligeramente una imagen original $x$ siguiendo el signo del gradiente de la funcion objetivo $\\mathcal{L}$:\n",
    "\n",
    "$$\n",
    "x' = x + \\epsilon \\mbox{sign}(\\nabla_x \\mathcal{L}(x,y,\\theta))\n",
    "$$"
   ]
  },
  {
   "cell_type": "code",
   "execution_count": 159,
   "metadata": {},
   "outputs": [],
   "source": [
    "# Create an FGSM attack\n",
    "fgsm_op = FastGradientMethod(cleverhans_model, sess=sess)\n",
    "fgsm_params = {'eps': 0.1}\n",
    "\n",
    "adv_x_op = fgsm_op.generate(x_op, **fgsm_params)\n",
    "adv_preds_op = tf_model_fn(adv_x_op)"
   ]
  },
  {
   "cell_type": "code",
   "execution_count": 160,
   "metadata": {},
   "outputs": [
    {
     "name": "stdout",
     "output_type": "stream",
     "text": [
      "Adv accuracy: 62.056 %\n"
     ]
    }
   ],
   "source": [
    "# Evaluamos el modelo bajo el dataset de test atacado\n",
    "total = 0\n",
    "correct = 0\n",
    "for xs, ys in test_loader:\n",
    "    adv_preds = sess.run(adv_preds_op, feed_dict={x_op: xs})\n",
    "    correct += (np.argmax(adv_preds, axis=1) == ys).sum()\n",
    "    total += len(xs)\n",
    "\n",
    "acc = float(correct) / total\n",
    "print('Adv accuracy: {:.3f} %'.format(acc * 100))"
   ]
  },
  {
   "cell_type": "markdown",
   "metadata": {},
   "source": [
    "Como podemos ver, el rendimiento de nuestro clasificador neuronal se ve gravemente perjudicado después de que hayamos atacado el conjunto de test: del 99% al 62% de accuracy."
   ]
  },
  {
   "cell_type": "markdown",
   "metadata": {},
   "source": [
    "Tomaremos un ejemplo para verlo en más detalle"
   ]
  },
  {
   "cell_type": "code",
   "execution_count": 161,
   "metadata": {
    "collapsed": true
   },
   "outputs": [],
   "source": [
    "%matplotlib inline\n",
    "import matplotlib.pyplot as plt"
   ]
  },
  {
   "cell_type": "code",
   "execution_count": 162,
   "metadata": {},
   "outputs": [
    {
     "data": {
      "text/plain": [
       "<matplotlib.image.AxesImage at 0x7f80d75c0c50>"
      ]
     },
     "execution_count": 162,
     "metadata": {},
     "output_type": "execute_result"
    },
    {
     "data": {
      "image/png": "[encoded data removed]",
      "text/plain": [
       "<matplotlib.figure.Figure at 0x7f80d815fa20>"
      ]
     },
     "metadata": {},
     "output_type": "display_data"
    }
   ],
   "source": [
    "idx = 1\n",
    "sample = xs[idx]\n",
    "plt.imshow(sample.numpy()[0,:,:], cmap='gray')"
   ]
  },
  {
   "cell_type": "code",
   "execution_count": 163,
   "metadata": {},
   "outputs": [
    {
     "name": "stdout",
     "output_type": "stream",
     "text": [
      "Clase predicha: 2\n"
     ]
    }
   ],
   "source": [
    "sample.requires_grad = True  # Necesitamos esto para calcular el gradiente\n",
    "output = torch_model(sample.unsqueeze(0))\n",
    "print('Clase predicha:', torch.argmax( output ).numpy())"
   ]
  },
  {
   "cell_type": "markdown",
   "metadata": {},
   "source": [
    "Parece que el ejemplo previo fue correctamente clasificado. Veamos qué ocurre bajo el ataque FGSM"
   ]
  },
  {
   "cell_type": "code",
   "execution_count": 164,
   "metadata": {
    "collapsed": true
   },
   "outputs": [],
   "source": [
    "# Calculamos el gradiente\n",
    "F.nll_loss(output, ys[idx].unsqueeze(0)).backward()"
   ]
  },
  {
   "cell_type": "markdown",
   "metadata": {},
   "source": [
    "Ahora, ya tenemos calculado $\\nabla_x \\mathcal{L}(x,y,\\theta)$:"
   ]
  },
  {
   "cell_type": "code",
   "execution_count": 166,
   "metadata": {},
   "outputs": [
    {
     "data": {
      "text/plain": [
       "torch.Size([1, 28, 28])"
      ]
     },
     "execution_count": 166,
     "metadata": {},
     "output_type": "execute_result"
    }
   ],
   "source": [
    "sample.grad.shape"
   ]
  },
  {
   "cell_type": "markdown",
   "metadata": {},
   "source": [
    "Realizaremos manualmente el ataque FGSM:"
   ]
  },
  {
   "cell_type": "code",
   "execution_count": 167,
   "metadata": {
    "collapsed": true
   },
   "outputs": [],
   "source": [
    "adv_sample = sample + 0.1*torch.sign(sample.grad)"
   ]
  },
  {
   "cell_type": "code",
   "execution_count": 168,
   "metadata": {},
   "outputs": [
    {
     "name": "stdout",
     "output_type": "stream",
     "text": [
      "Clase predicha: 7\n"
     ]
    }
   ],
   "source": [
    "adv_output = torch_model(adv_sample.unsqueeze(0))\n",
    "print('Clase predicha:', torch.argmax( adv_output ).numpy())"
   ]
  },
  {
   "cell_type": "markdown",
   "metadata": {},
   "source": [
    "Parece que hemos engañado a nuestro clasificador otra vez... ¿Cuál es el aspecto visual del input malicioso?"
   ]
  },
  {
   "cell_type": "code",
   "execution_count": 169,
   "metadata": {},
   "outputs": [
    {
     "data": {
      "text/plain": [
       "<matplotlib.image.AxesImage at 0x7f80d75533c8>"
      ]
     },
     "execution_count": 169,
     "metadata": {},
     "output_type": "execute_result"
    },
    {
     "data": {
      "image/png": "[encoded data removed]",
      "text/plain": [
       "<matplotlib.figure.Figure at 0x7f80d8080b00>"
      ]
     },
     "metadata": {},
     "output_type": "display_data"
    }
   ],
   "source": [
    "plt.imshow(adv_sample.detach().numpy()[0,:,:], cmap='gray')"
   ]
  },
  {
   "cell_type": "markdown",
   "metadata": {},
   "source": [
    "Esto no se parece a un 7.."
   ]
  },
  {
   "cell_type": "markdown",
   "metadata": {},
   "source": [
    "## Transferencia de ejemplos adversarios\n",
    "\n",
    "¿Qué ocurre si usamos el mismo ejemplo adversario en otro modelo distinto (black-box attack)?"
   ]
  },
  {
   "cell_type": "code",
   "execution_count": 170,
   "metadata": {
    "collapsed": true
   },
   "outputs": [],
   "source": [
    "class AnotherCNN(nn.Module):\n",
    "\n",
    "    def __init__(self):\n",
    "        super(AnotherCNN, self).__init__()\n",
    "        \n",
    "        self.conv1 = nn.Conv2d(1, 16, 5, padding=2)\n",
    "        self.conv2 = nn.Conv2d(16, 32, 5, padding=2)\n",
    "        self.fc1 = nn.Linear(32 * 7 * 7, 100)\n",
    "        self.fc11 = nn.Linear(100, 100)\n",
    "        self.fc2 = nn.Linear(100, 10)\n",
    "\n",
    "    def forward(self, x):\n",
    "        x = F.max_pool2d(F.relu(self.conv1(x)), 2)\n",
    "        x = F.max_pool2d(F.relu(self.conv2(x)), 2)\n",
    "        x = x.view(-1, 32 * 7 * 7)  # reshape Variable\n",
    "        x = F.relu(self.fc1(x))\n",
    "        x = F.relu(self.fc11(x))\n",
    "        x = self.fc2(x)\n",
    "        return F.log_softmax(x, dim=-1)"
   ]
  },
  {
   "cell_type": "code",
   "execution_count": 140,
   "metadata": {
    "collapsed": true
   },
   "outputs": [],
   "source": [
    "another_model = AnotherCNN()"
   ]
  },
  {
   "cell_type": "code",
   "execution_count": 171,
   "metadata": {
    "collapsed": true
   },
   "outputs": [],
   "source": [
    "another_model = AnotherCNN()\n",
    "another_model.load_state_dict(torch.load('another_cnn_weights.bin'))"
   ]
  },
  {
   "cell_type": "code",
   "execution_count": 172,
   "metadata": {},
   "outputs": [
    {
     "data": {
      "text/plain": [
       "AnotherCNN(\n",
       "  (conv1): Conv2d(1, 16, kernel_size=(5, 5), stride=(1, 1), padding=(2, 2))\n",
       "  (conv2): Conv2d(16, 32, kernel_size=(5, 5), stride=(1, 1), padding=(2, 2))\n",
       "  (fc1): Linear(in_features=1568, out_features=100, bias=True)\n",
       "  (fc11): Linear(in_features=100, out_features=100, bias=True)\n",
       "  (fc2): Linear(in_features=100, out_features=10, bias=True)\n",
       ")"
      ]
     },
     "execution_count": 172,
     "metadata": {},
     "output_type": "execute_result"
    }
   ],
   "source": [
    "another_model"
   ]
  },
  {
   "cell_type": "code",
   "execution_count": 173,
   "metadata": {},
   "outputs": [
    {
     "name": "stdout",
     "output_type": "stream",
     "text": [
      "Clase predicha: 7\n"
     ]
    }
   ],
   "source": [
    "adv_output = another_model(adv_sample.unsqueeze(0))\n",
    "print('Clase predicha:', torch.argmax( adv_output ).numpy())"
   ]
  },
  {
   "cell_type": "markdown",
   "metadata": {},
   "source": [
    "## ¿Qué ocurre con perturbaciones no adversarias?"
   ]
  },
  {
   "cell_type": "code",
   "execution_count": 174,
   "metadata": {
    "collapsed": true
   },
   "outputs": [],
   "source": [
    "sample_rand = sample + 0.2*torch.randn_like(sample)"
   ]
  },
  {
   "cell_type": "code",
   "execution_count": 175,
   "metadata": {},
   "outputs": [
    {
     "data": {
      "text/plain": [
       "<matplotlib.image.AxesImage at 0x7f80d74e8828>"
      ]
     },
     "execution_count": 175,
     "metadata": {},
     "output_type": "execute_result"
    },
    {
     "data": {
      "image/png": "[encoded data removed]",
      "text/plain": [
       "<matplotlib.figure.Figure at 0x7f80d755e7f0>"
      ]
     },
     "metadata": {},
     "output_type": "display_data"
    }
   ],
   "source": [
    "plt.imshow(sample_rand.detach().numpy()[0,:,:], cmap='gray')"
   ]
  },
  {
   "cell_type": "code",
   "execution_count": 176,
   "metadata": {},
   "outputs": [
    {
     "name": "stdout",
     "output_type": "stream",
     "text": [
      "Clase predicha: 2\n"
     ]
    }
   ],
   "source": [
    "rand_output = another_model(sample_rand.unsqueeze(0))\n",
    "print('Clase predicha:', torch.argmax( rand_output ).numpy())"
   ]
  },
  {
   "cell_type": "code",
   "execution_count": null,
   "metadata": {
    "collapsed": true
   },
   "outputs": [],
   "source": []
  }
 ],
 "metadata": {
  "kernelspec": {
   "display_name": "Python 3",
   "language": "python",
   "name": "python3"
  },
  "language_info": {
   "codemirror_mode": {
    "name": "ipython",
    "version": 3
   },
   "file_extension": ".py",
   "mimetype": "text/x-python",
   "name": "python",
   "nbconvert_exporter": "python",
   "pygments_lexer": "ipython3",
   "version": "3.6.1"
  }
 },
 "nbformat": 4,
 "nbformat_minor": 2
}
